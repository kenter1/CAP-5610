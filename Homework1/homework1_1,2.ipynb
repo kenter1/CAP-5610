{
 "cells": [
  {
   "cell_type": "markdown",
   "metadata": {},
   "source": [
    "### Logistic Regression  Loss Functions: Squared Error and Binary Cross Entropy\n",
    "Formulas from https://github.com/schneider128k/machine_learning_course/blob/master/slides/logistic_regression.pdf"
   ]
  },
  {
   "cell_type": "code",
   "execution_count": 1,
   "metadata": {},
   "outputs": [],
   "source": [
    "import numpy as np\n",
    "import pandas as pd"
   ]
  },
  {
   "cell_type": "markdown",
   "metadata": {},
   "source": [
    "### Downloading Datasets"
   ]
  },
  {
   "cell_type": "code",
   "execution_count": 2,
   "metadata": {},
   "outputs": [
    {
     "name": "stderr",
     "output_type": "stream",
     "text": [
      "Using TensorFlow backend.\n"
     ]
    }
   ],
   "source": [
    "from keras.datasets import mnist\n",
    "\n",
    "(train_images_original, train_labels_original), (test_images_original, test_labels_original) = mnist.load_data()"
   ]
  },
  {
   "cell_type": "code",
   "execution_count": 3,
   "metadata": {},
   "outputs": [
    {
     "data": {
      "text/plain": [
       "(60000, 28, 28)"
      ]
     },
     "execution_count": 3,
     "metadata": {},
     "output_type": "execute_result"
    }
   ],
   "source": [
    "train_images_original.shape"
   ]
  },
  {
   "cell_type": "code",
   "execution_count": 4,
   "metadata": {},
   "outputs": [],
   "source": [
    "m_train = train_images_original.shape[0]\n",
    "m_test = test_images_original.shape[0]\n",
    "features = train_images_original.shape[1] * train_images_original.shape[2]"
   ]
  },
  {
   "cell_type": "markdown",
   "metadata": {},
   "source": [
    "#### Flattening Image "
   ]
  },
  {
   "cell_type": "code",
   "execution_count": 5,
   "metadata": {},
   "outputs": [
    {
     "data": {
      "text/plain": [
       "((60000, 784), (10000, 784))"
      ]
     },
     "execution_count": 5,
     "metadata": {},
     "output_type": "execute_result"
    }
   ],
   "source": [
    "def flatten(m, features, images):\n",
    "    flattened_images = images.reshape((m, features))\n",
    "    flattened_images = flattened_images.astype('float32') /255\n",
    "    return flattened_images\n",
    "\n",
    "train_images = flatten(m_train,features,train_images_original)\n",
    "test_images  = flatten(m_test,features,test_images_original)\n",
    "#Bias\n",
    "train_images[:,0]= 1\n",
    "test_images[:,0] = 1\n",
    "train_images.shape, test_images.shape"
   ]
  },
  {
   "cell_type": "code",
   "execution_count": 6,
   "metadata": {},
   "outputs": [
    {
     "data": {
      "text/plain": [
       "784"
      ]
     },
     "execution_count": 6,
     "metadata": {},
     "output_type": "execute_result"
    }
   ],
   "source": [
    "features"
   ]
  },
  {
   "cell_type": "code",
   "execution_count": 32,
   "metadata": {},
   "outputs": [
    {
     "data": {
      "text/plain": [
       "<function matplotlib.pyplot.show(*args, **kw)>"
      ]
     },
     "execution_count": 32,
     "metadata": {},
     "output_type": "execute_result"
    },
    {
     "data": {
      "image/png": "[encoded data removed]",
      "text/plain": [
       "<Figure size 432x288 with 1 Axes>"
      ]
     },
     "metadata": {
      "needs_background": "light"
     },
     "output_type": "display_data"
    }
   ],
   "source": [
    "import matplotlib.pyplot as plt\n",
    "plt.imshow(train_images[:][1].reshape(28,28))\n",
    "plt.show"
   ]
  },
  {
   "cell_type": "markdown",
   "metadata": {},
   "source": [
    "#### One hot encoding"
   ]
  },
  {
   "cell_type": "code",
   "execution_count": 8,
   "metadata": {},
   "outputs": [
    {
     "data": {
      "text/plain": [
       "((60000, 10), (10000, 10))"
      ]
     },
     "execution_count": 8,
     "metadata": {},
     "output_type": "execute_result"
    }
   ],
   "source": [
    "from keras.utils import to_categorical\n",
    "\n",
    "train_labels = to_categorical(train_labels_original)\n",
    "test_labels = to_categorical(test_labels_original)\n",
    "\n",
    "train_labels.shape, test_labels.shape"
   ]
  },
  {
   "cell_type": "code",
   "execution_count": 9,
   "metadata": {},
   "outputs": [
    {
     "data": {
      "text/plain": [
       "(60000, 10)"
      ]
     },
     "execution_count": 9,
     "metadata": {},
     "output_type": "execute_result"
    }
   ],
   "source": [
    "train_labels.shape"
   ]
  },
  {
   "cell_type": "code",
   "execution_count": 10,
   "metadata": {},
   "outputs": [
    {
     "data": {
      "text/plain": [
       "array([1., 0., 0., 0., 0., 0., 0., 0., 0., 0.], dtype=float32)"
      ]
     },
     "execution_count": 10,
     "metadata": {},
     "output_type": "execute_result"
    }
   ],
   "source": [
    "train_labels[1]"
   ]
  },
  {
   "cell_type": "code",
   "execution_count": 11,
   "metadata": {},
   "outputs": [],
   "source": [
    "def sigmoid(z):\n",
    "    return 1/(1 + np.exp(-z))\n",
    "    \n",
    "x = np.linspace(-20,20,100) \n",
    "y = sigmoid(x)"
   ]
  },
  {
   "cell_type": "code",
   "execution_count": 12,
   "metadata": {},
   "outputs": [
    {
     "data": {
      "text/plain": [
       "[<matplotlib.lines.Line2D at 0x7f4825f59320>]"
      ]
     },
     "execution_count": 12,
     "metadata": {},
     "output_type": "execute_result"
    },
    {
     "data": {
      "image/png": "[encoded data removed]",
      "text/plain": [
       "<Figure size 432x288 with 1 Axes>"
      ]
     },
     "metadata": {
      "needs_background": "light"
     },
     "output_type": "display_data"
    }
   ],
   "source": [
    "plt.plot(x,y)"
   ]
  },
  {
   "cell_type": "code",
   "execution_count": 13,
   "metadata": {},
   "outputs": [],
   "source": [
    "def generateWeights(n):\n",
    "    return np.zeros(n)\n",
    "\n",
    "def generateRandomVector(n):\n",
    "    return np.random.rand(n)"
   ]
  },
  {
   "cell_type": "code",
   "execution_count": 14,
   "metadata": {},
   "outputs": [
    {
     "data": {
      "text/plain": [
       "((784,), (784,))"
      ]
     },
     "execution_count": 14,
     "metadata": {},
     "output_type": "execute_result"
    }
   ],
   "source": [
    "generateWeights(784).shape, generateRandomVector(784).shape"
   ]
  },
  {
   "cell_type": "markdown",
   "metadata": {},
   "source": [
    "### Predict\n",
    "$$\n",
    "\\hat{y} = a\\left( \\sum_{j=1}^n w_j x_j + b \\right)\n",
    "$$"
   ]
  },
  {
   "cell_type": "code",
   "execution_count": 15,
   "metadata": {},
   "outputs": [],
   "source": [
    "def predict(X, w):\n",
    "    a = forwardSigmoid2(X, w)\n",
    "    return a"
   ]
  },
  {
   "cell_type": "code",
   "execution_count": 16,
   "metadata": {},
   "outputs": [],
   "source": [
    "def combinedPredictions(weights, images):\n",
    "    activations = {}\n",
    "    \n",
    "    for i in range(0,10):\n",
    "        activations[i] = predict(images, weights[i])\n",
    "               \n",
    "    return activations"
   ]
  },
  {
   "cell_type": "code",
   "execution_count": 17,
   "metadata": {},
   "outputs": [],
   "source": [
    "def score(predicted_labels, labels):\n",
    "    score = (predicted_labels.values == labels).sum()\n",
    "    return score"
   ]
  },
  {
   "cell_type": "markdown",
   "metadata": {},
   "source": [
    "#### Forward Propagation\n",
    "$$\n",
    "x \\quad \\mapsto \\quad z = w^Tx = \\sum_{j=1}^n w_j x_j \\quad \\mapsto \\quad a = a(z).\n",
    "$$"
   ]
  },
  {
   "cell_type": "code",
   "execution_count": 18,
   "metadata": {},
   "outputs": [],
   "source": [
    "def forwardSigmoid(X, w):\n",
    "    m = X.shape[0]\n",
    "    n = X.shape[1]\n",
    "    a = np.zeros(m).astype(\"float\")\n",
    "\n",
    "    for i in range(0,m):\n",
    "        xi = X[i].reshape(n,1)\n",
    "        wi = w.reshape(n,1)\n",
    "        z = np.dot(wi.T,xi)\n",
    "        a[i] = sigmoid(z)\n",
    "    \n",
    "    return a"
   ]
  },
  {
   "cell_type": "code",
   "execution_count": 19,
   "metadata": {},
   "outputs": [],
   "source": [
    "def forwardSigmoid2(X, w):\n",
    "    m = X.shape[0]\n",
    "    z = np.dot(w.T,X.T)\n",
    "    a = sigmoid(z)\n",
    "    \n",
    "    return a.reshape(m,)"
   ]
  },
  {
   "cell_type": "markdown",
   "metadata": {},
   "source": [
    "#### Gradient Squared Error\n",
    "\n",
    "\\begin{equation}\n",
    "\\mathcal{L}_\\mathrm{se} = \\frac{1}{2} (a - y)^2\n",
    "\\end{equation}\n",
    "\n",
    "\\begin{equation}\n",
    "{\\partial \\mathcal{L}_\\mathrm{se} \\over \\partial w_j} = (a - y) \\cdot \\sigma'(z) \\cdot x_j \n",
    "\\end{equation}\n",
    "\n",
    " "
   ]
  },
  {
   "cell_type": "code",
   "execution_count": 20,
   "metadata": {},
   "outputs": [],
   "source": [
    "def backwardSquaredError(X,A, Y):\n",
    "    m = X.shape[0]\n",
    "    n = X.shape[1]\n",
    "    \n",
    "    dw = np.zeros(n)\n",
    "    \n",
    "    for i in range(0,m):\n",
    "        a = A[i]\n",
    "        y = Y[i]\n",
    "        \n",
    "        dw += (a-y)*(a-np.power(a,2))*X[i]\n",
    "    \n",
    "    dw = dw/m\n",
    "    \n",
    "    return dw"
   ]
  },
  {
   "cell_type": "code",
   "execution_count": 21,
   "metadata": {},
   "outputs": [],
   "source": [
    "def backwardSquaredError2(X,A, Y):\n",
    "    m = X.shape[0]\n",
    "    n = X.shape[1]\n",
    "    \n",
    "    dw = np.dot((A-Y)*(A-np.power(A,2)),X)\n",
    "    \n",
    "    dw = dw/m\n",
    "    \n",
    "    return dw"
   ]
  },
  {
   "cell_type": "markdown",
   "metadata": {},
   "source": [
    "Gradient Binary Cross Entropy\n",
    "\\begin{equation}\n",
    "\\mathcal{L}_\\mathrm{ce} = - y \\log a - (1-y) \\log(1-a)\\,\n",
    "\\end{equation}\n",
    "\n",
    "\\begin{equation}\n",
    "{\\partial \\mathcal{L}_\\mathrm{ce} \\over \\partial w_j} = (a - y) \\cdot x_j \n",
    "\\end{equation}"
   ]
  },
  {
   "cell_type": "code",
   "execution_count": 22,
   "metadata": {},
   "outputs": [],
   "source": [
    "def backwardCrossEntropy(X,A,Y):\n",
    "    m = X.shape[0]\n",
    "    n = X.shape[1]\n",
    "    \n",
    "    dw = np.zeros(n)\n",
    "    \n",
    "    for i in range(0,m):\n",
    "        a = A[i]\n",
    "        y = Y[i]\n",
    "        dz = a - y\n",
    "        dw += X[i] * dz\n",
    "    \n",
    "    dw = dw/m\n",
    "    \n",
    "    return dw\n"
   ]
  },
  {
   "cell_type": "code",
   "execution_count": 23,
   "metadata": {},
   "outputs": [],
   "source": [
    "def backwardCrossEntropy2(X,A, Y):\n",
    "    m = X.shape[0]\n",
    "    n = X.shape[1]\n",
    "    #dw = np.zeros(n)\n",
    "    dz = A.reshape(m,) - Y.reshape(m,)\n",
    "\n",
    "    dw = np.dot(dz.T, X)\n",
    "    \n",
    "    dw = dw/m\n",
    "    \n",
    "    return dw\n"
   ]
  },
  {
   "cell_type": "code",
   "execution_count": 24,
   "metadata": {},
   "outputs": [],
   "source": [
    "def train(epochs, lr, train_images, train_labels):\n",
    "    m = train_images.shape[0]\n",
    "    n = train_images.shape[1]\n",
    "    weights = {}\n",
    "    for i in range(0,10):\n",
    "        weight = generateWeights(n)\n",
    "        weights[i] = weight\n",
    "        \n",
    "    for i in range(0,10):\n",
    "        for epoch in range(epochs):\n",
    "            a = forwardSigmoid2(train_images, weights[i])\n",
    "            dw = backwardSquaredErrorLoss(train_images,a,train_labels[:,i])\n",
    "            \n",
    "            weights[i] = weights[i] - lr * dw\n",
    "            \n",
    "    return weights"
   ]
  },
  {
   "cell_type": "code",
   "execution_count": 25,
   "metadata": {},
   "outputs": [],
   "source": [
    "def train_mini_batch(epochs, lr, batch_size, train_images, train_labels, forward,backward):\n",
    "    n = train_images.shape[1]\n",
    "    m = train_images.shape[0]\n",
    "    weights = {}\n",
    "    \n",
    "    for i in range(0,10):\n",
    "        weight = generateWeights(n)\n",
    "        weights[i] = weight\n",
    "\n",
    "        \n",
    "    for i in range(0,10):\n",
    "        print(\"Training Classifier {}\".format(i))\n",
    "        print(\"Finished Epoch \", end='')\n",
    "        for epoch in range(epochs):\n",
    "            shuffled_indices = np.random.permutation(m)\n",
    "            train_images_shuffled = train_images[shuffled_indices]\n",
    "            train_labels_shuffled = train_labels[shuffled_indices]\n",
    "            for e in range(0,m,batch_size):    \n",
    "                xi = train_images_shuffled[e:e+batch_size]\n",
    "                yi = train_labels_shuffled[e:e+batch_size]\n",
    "\n",
    "                a = forward(xi, weights[i])\n",
    "                dw = backward(xi,a,yi[:,i])\n",
    "\n",
    "                weights[i] = weights[i] - lr * dw\n",
    "            print(\"{} \".format(epoch), end='')\n",
    "        print()  \n",
    "    return weights"
   ]
  },
  {
   "cell_type": "markdown",
   "metadata": {},
   "source": [
    "### Logistic Regression with Square Error Loss"
   ]
  },
  {
   "cell_type": "code",
   "execution_count": 26,
   "metadata": {},
   "outputs": [
    {
     "name": "stdout",
     "output_type": "stream",
     "text": [
      "Training Classifier 0\n",
      "Finished Epoch 0 1 2 3 4 \n",
      "Training Classifier 1\n",
      "Finished Epoch 0 1 2 3 4 \n",
      "Training Classifier 2\n",
      "Finished Epoch 0 1 2 3 4 \n",
      "Training Classifier 3\n",
      "Finished Epoch 0 1 2 3 4 \n",
      "Training Classifier 4\n",
      "Finished Epoch 0 1 2 3 4 \n",
      "Training Classifier 5\n",
      "Finished Epoch 0 1 2 3 4 \n",
      "Training Classifier 6\n",
      "Finished Epoch 0 1 2 3 4 \n",
      "Training Classifier 7\n",
      "Finished Epoch 0 1 2 3 4 \n",
      "Training Classifier 8\n",
      "Finished Epoch 0 1 2 3 4 \n",
      "Training Classifier 9\n",
      "Finished Epoch 0 1 2 3 4 \n",
      "CPU times: user 17.8 s, sys: 20.9 s, total: 38.7 s\n",
      "Wall time: 12.6 s\n"
     ]
    }
   ],
   "source": [
    "%%time\n",
    "epochs = 5\n",
    "lr = .5\n",
    "batch_size = 1000\n",
    "weights = train_mini_batch(epochs, lr, batch_size, train_images, train_labels, forwardSigmoid2,backwardSquaredError2)"
   ]
  },
  {
   "cell_type": "code",
   "execution_count": 27,
   "metadata": {},
   "outputs": [
    {
     "name": "stdout",
     "output_type": "stream",
     "text": [
      "Test Score 8830/10000 : Accuracy 88.3%\n"
     ]
    }
   ],
   "source": [
    "activations = combinedPredictions(weights, test_images)\n",
    "pred_labels = pd.DataFrame(activations).T.idxmax()\n",
    "scores = score(pred_labels, test_labels_original)\n",
    "print(\"Test Score {}/{} : Accuracy {}%\".format(scores, m_test, 100*scores/m_test))"
   ]
  },
  {
   "cell_type": "code",
   "execution_count": 28,
   "metadata": {},
   "outputs": [
    {
     "name": "stdout",
     "output_type": "stream",
     "text": [
      "Train Score 52438/60000 : Accuracy 87.39666666666666%\n"
     ]
    }
   ],
   "source": [
    "activations = combinedPredictions(weights, train_images)\n",
    "pred_labels = pd.DataFrame(activations).T.idxmax()\n",
    "scores = score(pred_labels, train_labels_original)\n",
    "print(\"Train Score {}/{} : Accuracy {}%\".format(scores, m_train, 100*scores/m_train))"
   ]
  },
  {
   "cell_type": "markdown",
   "metadata": {},
   "source": [
    "### Logistic Regression with Binary Cross Entropy\n"
   ]
  },
  {
   "cell_type": "code",
   "execution_count": 29,
   "metadata": {},
   "outputs": [
    {
     "name": "stdout",
     "output_type": "stream",
     "text": [
      "Training Classifier 0\n",
      "Finished Epoch 0 1 2 3 4 \n",
      "Training Classifier 1\n",
      "Finished Epoch 0 1 2 3 4 \n",
      "Training Classifier 2\n",
      "Finished Epoch 0 1 2 3 4 \n",
      "Training Classifier 3\n",
      "Finished Epoch 0 1 2 3 4 \n",
      "Training Classifier 4\n",
      "Finished Epoch 0 1 2 3 4 \n",
      "Training Classifier 5\n",
      "Finished Epoch 0 1 2 3 4 \n",
      "Training Classifier 6\n",
      "Finished Epoch 0 1 2 3 4 \n",
      "Training Classifier 7\n",
      "Finished Epoch 0 1 2 3 4 \n",
      "Training Classifier 8\n",
      "Finished Epoch 0 1 2 3 4 \n",
      "Training Classifier 9\n",
      "Finished Epoch 0 1 2 3 4 \n",
      "CPU times: user 17 s, sys: 19.1 s, total: 36.1 s\n",
      "Wall time: 10.8 s\n"
     ]
    }
   ],
   "source": [
    "%%time\n",
    "epochs = 5\n",
    "lr = .5\n",
    "batch_size = 1000\n",
    "weights = train_mini_batch(epochs, lr, batch_size, train_images, train_labels, forwardSigmoid2,backwardCrossEntropy2)"
   ]
  },
  {
   "cell_type": "code",
   "execution_count": 30,
   "metadata": {},
   "outputs": [
    {
     "name": "stdout",
     "output_type": "stream",
     "text": [
      "Test Score 9053/10000 : Accuracy 90.53%\n"
     ]
    }
   ],
   "source": [
    "activations = combinedPredictions(weights, test_images)\n",
    "pred_labels = pd.DataFrame(activations).T.idxmax()\n",
    "scores = score(pred_labels, test_labels_original)\n",
    "print(\"Test Score {}/{} : Accuracy {}%\".format(scores, m_test, 100*scores/m_test))"
   ]
  },
  {
   "cell_type": "code",
   "execution_count": 31,
   "metadata": {},
   "outputs": [
    {
     "name": "stdout",
     "output_type": "stream",
     "text": [
      "Train Score 53921/60000 : Accuracy 89.86833333333334%\n"
     ]
    }
   ],
   "source": [
    "activations = combinedPredictions(weights, train_images)\n",
    "pred_labels = pd.DataFrame(activations).T.idxmax()\n",
    "scores = score(pred_labels, train_labels_original)\n",
    "print(\"Train Score {}/{} : Accuracy {}%\".format(scores, m_train, 100*scores/m_train))"
   ]
  },
  {
   "cell_type": "code",
   "execution_count": null,
   "metadata": {},
   "outputs": [],
   "source": []
  }
 ],
 "metadata": {
  "kernelspec": {
   "display_name": "Python 3",
   "language": "python",
   "name": "python3"
  },
  "language_info": {
   "codemirror_mode": {
    "name": "ipython",
    "version": 3
   },
   "file_extension": ".py",
   "mimetype": "text/x-python",
   "name": "python",
   "nbconvert_exporter": "python",
   "pygments_lexer": "ipython3",
   "version": "3.7.2"
  }
 },
 "nbformat": 4,
 "nbformat_minor": 2
}
