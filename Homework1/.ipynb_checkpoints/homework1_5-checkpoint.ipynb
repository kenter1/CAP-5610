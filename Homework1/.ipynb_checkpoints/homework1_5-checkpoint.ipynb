{
 "cells": [
  {
   "cell_type": "markdown",
   "metadata": {},
   "source": [
    "### Logistic Regression  Loss Functions: Squared Error and Binary Cross Entropy\n",
    "Formulas from https://github.com/schneider128k/machine_learning_course/blob/master/slides/logistic_regression.pdf"
   ]
  },
  {
   "cell_type": "code",
   "execution_count": 1,
   "metadata": {},
   "outputs": [],
   "source": [
    "import numpy as np\n",
    "import pandas as pd"
   ]
  },
  {
   "cell_type": "markdown",
   "metadata": {},
   "source": [
    "### Downloading Datasets"
   ]
  },
  {
   "cell_type": "code",
   "execution_count": 2,
   "metadata": {},
   "outputs": [
    {
     "name": "stderr",
     "output_type": "stream",
     "text": [
      "Using TensorFlow backend.\n"
     ]
    }
   ],
   "source": [
    "from keras.datasets import mnist\n",
    "\n",
    "(train_images_original, train_labels_original), (test_images_original, test_labels_original) = mnist.load_data()"
   ]
  },
  {
   "cell_type": "code",
   "execution_count": 3,
   "metadata": {},
   "outputs": [
    {
     "data": {
      "text/plain": [
       "(60000, 28, 28)"
      ]
     },
     "execution_count": 3,
     "metadata": {},
     "output_type": "execute_result"
    }
   ],
   "source": [
    "train_images_original.shape"
   ]
  },
  {
   "cell_type": "code",
   "execution_count": 4,
   "metadata": {},
   "outputs": [],
   "source": [
    "m_train = train_images_original.shape[0]\n",
    "m_test = test_images_original.shape[0]\n",
    "features = train_images_original.shape[1] * train_images_original.shape[2]"
   ]
  },
  {
   "cell_type": "markdown",
   "metadata": {},
   "source": [
    "#### Flattening Image "
   ]
  },
  {
   "cell_type": "code",
   "execution_count": 5,
   "metadata": {},
   "outputs": [
    {
     "data": {
      "text/plain": [
       "((60000, 784), (10000, 784))"
      ]
     },
     "execution_count": 5,
     "metadata": {},
     "output_type": "execute_result"
    }
   ],
   "source": [
    "def flatten(m, features, images):\n",
    "    flattened_images = images.reshape((m, features))\n",
    "    flattened_images = flattened_images.astype('float32') /255\n",
    "    return flattened_images\n",
    "\n",
    "train_images = flatten(m_train,features,train_images_original)\n",
    "test_images  = flatten(m_test,features,test_images_original)\n",
    "train_images.shape, test_images.shape"
   ]
  },
  {
   "cell_type": "code",
   "execution_count": 6,
   "metadata": {},
   "outputs": [
    {
     "data": {
      "text/plain": [
       "784"
      ]
     },
     "execution_count": 6,
     "metadata": {},
     "output_type": "execute_result"
    }
   ],
   "source": [
    "features"
   ]
  },
  {
   "cell_type": "code",
   "execution_count": 7,
   "metadata": {},
   "outputs": [
    {
     "data": {
      "text/plain": [
       "<function matplotlib.pyplot.show(*args, **kw)>"
      ]
     },
     "execution_count": 7,
     "metadata": {},
     "output_type": "execute_result"
    }
   ],
   "source": [
    "import matplotlib.pyplot as plt\n",
    "plt.imshow(train_images[:][1].reshape(28,28))\n",
    "plt.show"
   ]
  },
  {
   "cell_type": "code",
   "execution_count": 8,
   "metadata": {},
   "outputs": [],
   "source": [
    "exampleImage = train_images[:][1].reshape(28,28)"
   ]
  },
  {
   "cell_type": "code",
   "execution_count": 9,
   "metadata": {},
   "outputs": [
    {
     "data": {
      "text/plain": [
       "(28, 28)"
      ]
     },
     "execution_count": 9,
     "metadata": {},
     "output_type": "execute_result"
    }
   ],
   "source": [
    "exampleImage.shape"
   ]
  },
  {
   "cell_type": "code",
   "execution_count": 10,
   "metadata": {},
   "outputs": [
    {
     "data": {
      "text/plain": [
       "176"
      ]
     },
     "execution_count": 10,
     "metadata": {},
     "output_type": "execute_result"
    }
   ],
   "source": [
    "np.count_nonzero(exampleImage)"
   ]
  },
  {
   "cell_type": "markdown",
   "metadata": {},
   "source": [
    "cycle algorithm https://stackoverflow.com/questions/19113189/detecting-cycles-in-a-graph-using-dfs-2-different-approaches-and-whats-the-dif"
   ]
  },
  {
   "cell_type": "raw",
   "metadata": {},
   "source": [
    "#unvisited\n",
    "def findAdjacentNodes(x,y,image,marked):\n",
    "    dx = [0,0,1,-1]\n",
    "    dy = [1,-1,0,0]\n",
    "    \n",
    "    nodes = []\n",
    "    \n",
    "    for i in range(4):\n",
    "        if(image[x+dx[i]][y+dy[i]] > 0 and marked[x+dx[i]][y+dy[i]] == 0):\n",
    "            nodes.append((x+dx[i],y+dy[i]))\n",
    "    \n",
    "    return nodes\n",
    "        "
   ]
  },
  {
   "cell_type": "raw",
   "metadata": {},
   "source": [
    "def findCycle(v, u, image, marked):\n",
    "    a, b = v\n",
    "    marked[a][b] = 1\n",
    "    \n",
    "    for c,d in findAdjacentNodes(a,b,image,marked):\n",
    "        if(marked[c][d] == 0):\n",
    "            marked[c][d] = 1\n",
    "            #marked should be passed ref???\n",
    "            findCycle((c,d),v,image,marked)\n",
    "        elif(v != u):\n",
    "            #print(True)\n",
    "            return True\n",
    "\n",
    "    "
   ]
  },
  {
   "cell_type": "raw",
   "metadata": {},
   "source": [
    "def DFSCycle(x, y, image):\n",
    "    marked = np.zeros(image.shape[0]*image.shape[1]).reshape(image.shape[0],image.shape[1])\n",
    "    findCycle((x,y),(x,y), image, marked)\n",
    "    return marked"
   ]
  },
  {
   "cell_type": "raw",
   "metadata": {},
   "source": [
    "#finding cycles will not work because it can make circles everywhere\n",
    "#unless the pixel are 1 pixel thick\n",
    "\n",
    "exampleImage = train_images[:][4].reshape(28,28)\n",
    "s,t= np.where(exampleImage>0)\n",
    "s = s[0]\n",
    "t = t[0]\n",
    "exampleImage[4][15]\n",
    "marked = np.zeros(exampleImage.shape[0]*exampleImage.shape[1]).reshape(exampleImage.shape[0],exampleImage.shape[1])\n",
    "print(\"{} {}\".format(s ,t))\n",
    "for i in findAdjacentNodes(s,t,exampleImage,marked):\n",
    "    a, b = i\n",
    "    print(\"{} {}\".format(a,b))\n",
    "    \n",
    "\n",
    "findCycle((s,t),(s,t),exampleImage,marked)\n",
    "plt.imshow(marked)"
   ]
  },
  {
   "cell_type": "markdown",
   "metadata": {},
   "source": [
    "#### One hot encoding"
   ]
  },
  {
   "cell_type": "code",
   "execution_count": 11,
   "metadata": {},
   "outputs": [
    {
     "data": {
      "text/plain": [
       "(60000, 10)"
      ]
     },
     "execution_count": 11,
     "metadata": {},
     "output_type": "execute_result"
    }
   ],
   "source": [
    "from keras.utils import to_categorical\n",
    "\n",
    "train_labels = to_categorical(train_labels_original)\n",
    "test_labels = to_categorical(test_labels_original)\n",
    "\n",
    "train_labels.shape, test_labels.shape\n",
    "\n",
    "train_labels.shape"
   ]
  },
  {
   "cell_type": "markdown",
   "metadata": {},
   "source": [
    "#### Extra Features"
   ]
  },
  {
   "cell_type": "code",
   "execution_count": 40,
   "metadata": {},
   "outputs": [],
   "source": [
    "train_images_Extra = np.zeros(m_train*28*28).reshape(train_images.shape)\n",
    "np.copyto(train_images_Extra, train_images)\n",
    "\n",
    "test_images_Extra = np.zeros(m_test*28*28).reshape(test_images.shape)\n",
    "np.copyto(test_images_Extra, test_images)"
   ]
  },
  {
   "cell_type": "code",
   "execution_count": 41,
   "metadata": {},
   "outputs": [],
   "source": [
    "import pandas as pd"
   ]
  },
  {
   "cell_type": "code",
   "execution_count": 42,
   "metadata": {},
   "outputs": [],
   "source": [
    "def ratios(image):\n",
    "    image = image.reshape(image.shape[0],28*28)\n",
    "    return np.count_nonzero(image,axis=1)/(28*28)"
   ]
  },
  {
   "cell_type": "code",
   "execution_count": 43,
   "metadata": {},
   "outputs": [],
   "source": [
    "def activated(image):\n",
    "    image = image.reshape(image.shape[0],28*28)\n",
    "    return np.count_nonzero(image,axis=1)"
   ]
  },
  {
   "cell_type": "code",
   "execution_count": null,
   "metadata": {},
   "outputs": [],
   "source": []
  },
  {
   "cell_type": "code",
   "execution_count": 44,
   "metadata": {},
   "outputs": [],
   "source": [
    "#test_images_Extra = addFeature(test_images_Extra, ratios(test_images))\n",
    "#train_images_Extra = addFeature(train_images_Extra, ratios(train_images))"
   ]
  },
  {
   "cell_type": "code",
   "execution_count": 45,
   "metadata": {},
   "outputs": [
    {
     "data": {
      "text/plain": [
       "((10000, 784), (10000, 784))"
      ]
     },
     "execution_count": 45,
     "metadata": {},
     "output_type": "execute_result"
    }
   ],
   "source": [
    "test_images_Extra.shape, test_images.shape"
   ]
  },
  {
   "cell_type": "code",
   "execution_count": 46,
   "metadata": {},
   "outputs": [
    {
     "data": {
      "text/plain": [
       "<matplotlib.image.AxesImage at 0x7fc169e83208>"
      ]
     },
     "execution_count": 46,
     "metadata": {},
     "output_type": "execute_result"
    },
    {
     "data": {
      "image/png": "[encoded data removed]",
      "text/plain": [
       "<Figure size 432x288 with 1 Axes>"
      ]
     },
     "metadata": {
      "needs_background": "light"
     },
     "output_type": "display_data"
    }
   ],
   "source": [
    "import matplotlib.pyplot as plt\n",
    "plt.imshow(train_images[:][1].reshape(28,28))"
   ]
  },
  {
   "cell_type": "markdown",
   "metadata": {},
   "source": [
    "https://en.wikipedia.org/wiki/Flood_fill"
   ]
  },
  {
   "cell_type": "code",
   "execution_count": 47,
   "metadata": {},
   "outputs": [],
   "source": [
    "def floodfill(picture,replacement = 255,target = 0, xPos = 0, yPos = 0):\n",
    "    #print(\"{} {}\".format(xPos, yPos))\n",
    "    if(target == replacement):\n",
    "        return picture\n",
    "    if(picture[xPos][yPos] != target):\n",
    "        return picture\n",
    "    picture[xPos][yPos] = replacement\n",
    "    floodfill(picture,replacement,target, (xPos + 1) % 28, yPos)\n",
    "    floodfill(picture,replacement,target, (xPos - 1) % 28, yPos)\n",
    "    floodfill(picture,replacement,target, xPos, (yPos + 1) % 28)\n",
    "    floodfill(picture,replacement,target, xPos, (yPos - 1) % 28)\n",
    "    \n",
    "    return picture\n",
    "    "
   ]
  },
  {
   "cell_type": "code",
   "execution_count": 48,
   "metadata": {},
   "outputs": [],
   "source": [
    "#temp1 = np.zeros(train_images_original.shape[0]*28*28).reshape(train_images_original.shape)\n",
    "#np.copyto(temp1, train_images_original)\n",
    "#a = np.zeros(train_images_original.shape[0]*28*28).reshape(train_images_original.shape)\n",
    "#a.shape"
   ]
  },
  {
   "cell_type": "raw",
   "metadata": {},
   "source": [
    "%%time\n",
    "#np.vectorize(floodfill)(temp1)\n",
    "from multiprocessing.pool import ThreadPool\n",
    "pool = ThreadPool(4) \n",
    "results = pool.map(floodfill, temp1)\n"
   ]
  },
  {
   "cell_type": "code",
   "execution_count": 49,
   "metadata": {},
   "outputs": [
    {
     "name": "stdout",
     "output_type": "stream",
     "text": [
      "CPU times: user 413 ms, sys: 169 ms, total: 582 ms\n",
      "Wall time: 1min 20s\n"
     ]
    }
   ],
   "source": [
    "%%time\n",
    "from multiprocessing import Pool\n",
    "pool = Pool(processes=4) \n",
    "#should not affect train_images_original\n",
    "a = pool.map(floodfill, train_images_original)\n",
    "#pool.map(floodfill, temp1)\n"
   ]
  },
  {
   "cell_type": "code",
   "execution_count": 52,
   "metadata": {},
   "outputs": [],
   "source": [
    "b = np.array(a)\n",
    "b = b.reshape(b.shape[0],b.shape[1]*b.shape[2])\n",
    "b = (activated(b) == 784).astype(\"int\")\n",
    "b = to_categorical(b)\n",
    "\n",
    "train_images_Extra = np.append(train_images_Extra,b,axis=1)"
   ]
  },
  {
   "cell_type": "code",
   "execution_count": 53,
   "metadata": {},
   "outputs": [
    {
     "data": {
      "text/plain": [
       "(60000, 786)"
      ]
     },
     "execution_count": 53,
     "metadata": {},
     "output_type": "execute_result"
    }
   ],
   "source": [
    "train_images_Extra.shape"
   ]
  },
  {
   "cell_type": "code",
   "execution_count": 54,
   "metadata": {},
   "outputs": [
    {
     "name": "stdout",
     "output_type": "stream",
     "text": [
      "CPU times: user 62.8 ms, sys: 108 ms, total: 171 ms\n",
      "Wall time: 12.2 s\n"
     ]
    }
   ],
   "source": [
    "%%time\n",
    "from multiprocessing import Pool\n",
    "pool = Pool(processes=4) \n",
    "#should not affect train_images_original\n",
    "c = pool.map(floodfill, test_images_original)\n",
    "#pool.map(floodfill, temp1)\n"
   ]
  },
  {
   "cell_type": "code",
   "execution_count": 55,
   "metadata": {},
   "outputs": [],
   "source": [
    "d = np.array(c)\n",
    "d = d.reshape(d.shape[0],d.shape[1]*d.shape[2])\n",
    "d = (activated(d) == 784).astype(\"int\")\n",
    "d = to_categorical(d)\n",
    "\n",
    "test_images_Extra = np.append(test_images_Extra,d,axis=1)"
   ]
  },
  {
   "cell_type": "code",
   "execution_count": 57,
   "metadata": {},
   "outputs": [
    {
     "data": {
      "text/plain": [
       "(10000, 786)"
      ]
     },
     "execution_count": 57,
     "metadata": {},
     "output_type": "execute_result"
    }
   ],
   "source": [
    "test_images_Extra.shape"
   ]
  },
  {
   "cell_type": "code",
   "execution_count": 65,
   "metadata": {},
   "outputs": [
    {
     "name": "stdout",
     "output_type": "stream",
     "text": [
      "Train on 60000 samples, validate on 10000 samples\n",
      "Epoch 1/5\n",
      "60000/60000 [==============================] - 0s 7us/step - loss: 1.3328 - acc: 0.6804 - val_loss: 0.8046 - val_acc: 0.8343\n",
      "Epoch 2/5\n",
      "60000/60000 [==============================] - 0s 5us/step - loss: 0.6521 - acc: 0.8500 - val_loss: 0.5041 - val_acc: 0.8791\n",
      "Epoch 3/5\n",
      "60000/60000 [==============================] - 0s 5us/step - loss: 0.4683 - acc: 0.8797 - val_loss: 0.4015 - val_acc: 0.8964\n",
      "Epoch 4/5\n",
      "60000/60000 [==============================] - 0s 5us/step - loss: 0.3945 - acc: 0.8951 - val_loss: 0.3554 - val_acc: 0.9045\n",
      "Epoch 5/5\n",
      "60000/60000 [==============================] - 0s 5us/step - loss: 0.3571 - acc: 0.9027 - val_loss: 0.3292 - val_acc: 0.9106\n"
     ]
    }
   ],
   "source": [
    "from keras import models\n",
    "from keras import layers\n",
    "from keras.layers import Dense\n",
    "\n",
    "output = train_labels.shape[1]\n",
    "inputSize = features\n",
    "\n",
    "network = models.Sequential()\n",
    "network.add(Dense(output, input_dim=inputSize, activation='softmax')) \n",
    "network.compile(optimizer='rmsprop',\n",
    "                loss='categorical_crossentropy',\n",
    "                metrics=['accuracy'])\n",
    "\n",
    "epochs = 5\n",
    "history = network.fit(train_images, \n",
    "                      train_labels, \n",
    "                      epochs=epochs, \n",
    "                      batch_size=1000, \n",
    "                      validation_data=(test_images, test_labels))"
   ]
  },
  {
   "cell_type": "code",
   "execution_count": 59,
   "metadata": {},
   "outputs": [],
   "source": [
    "predictions = network.predict(test_images)\n",
    "\n",
    "predicted_labels = np.argmax(predictions, axis=1) \n",
    "predicted_labels = predicted_labels.astype('uint8')\n",
    "\n",
    "wrong_indices = [i for i in range(10000) if predicted_labels[i] != test_labels_original[i]]\n"
   ]
  },
  {
   "cell_type": "code",
   "execution_count": 60,
   "metadata": {},
   "outputs": [
    {
     "data": {
      "text/plain": [
       "(3, 9)"
      ]
     },
     "execution_count": 60,
     "metadata": {},
     "output_type": "execute_result"
    }
   ],
   "source": [
    "i = 10\n",
    "wrong_index = wrong_indices[i]  \n",
    "predicted_labels[wrong_index], test_labels_original[wrong_index]"
   ]
  },
  {
   "cell_type": "code",
   "execution_count": 61,
   "metadata": {},
   "outputs": [
    {
     "data": {
      "image/png": "[encoded data removed]",
      "text/plain": [
       "<Figure size 432x288 with 1 Axes>"
      ]
     },
     "metadata": {
      "needs_background": "light"
     },
     "output_type": "display_data"
    }
   ],
   "source": [
    "plt.imshow(test_images_original[wrong_index])\n",
    "plt.grid(None)\n",
    "plt.show()"
   ]
  },
  {
   "cell_type": "code",
   "execution_count": 64,
   "metadata": {},
   "outputs": [
    {
     "name": "stdout",
     "output_type": "stream",
     "text": [
      "Train on 60000 samples, validate on 10000 samples\n",
      "Epoch 1/5\n",
      "60000/60000 [==============================] - 0s 8us/step - loss: 1.2815 - acc: 0.6973 - val_loss: 0.7669 - val_acc: 0.8449\n",
      "Epoch 2/5\n",
      "60000/60000 [==============================] - 0s 6us/step - loss: 0.6199 - acc: 0.8602 - val_loss: 0.4759 - val_acc: 0.8883\n",
      "Epoch 3/5\n",
      "60000/60000 [==============================] - 0s 6us/step - loss: 0.4391 - acc: 0.8888 - val_loss: 0.3741 - val_acc: 0.9064\n",
      "Epoch 4/5\n",
      "60000/60000 [==============================] - 0s 6us/step - loss: 0.3651 - acc: 0.9039 - val_loss: 0.3261 - val_acc: 0.9156\n",
      "Epoch 5/5\n",
      "60000/60000 [==============================] - 0s 7us/step - loss: 0.3261 - acc: 0.9118 - val_loss: 0.3004 - val_acc: 0.9200\n"
     ]
    }
   ],
   "source": [
    "from keras import models\n",
    "from keras import layers\n",
    "from keras.layers import Dense\n",
    "\n",
    "output = train_labels.shape[1]\n",
    "inputSize = features\n",
    "\n",
    "network = models.Sequential()\n",
    "network.add(Dense(output, input_dim=inputSize + 2, activation='softmax')) \n",
    "network.compile(optimizer='rmsprop',\n",
    "                loss='categorical_crossentropy',\n",
    "                metrics=['accuracy'])\n",
    "\n",
    "epochs = 5\n",
    "history = network.fit(train_images_Extra, \n",
    "                      train_labels, \n",
    "                      epochs=epochs, \n",
    "                      batch_size=1000, \n",
    "                      validation_data=(test_images_Extra, test_labels))"
   ]
  },
  {
   "cell_type": "code",
   "execution_count": null,
   "metadata": {},
   "outputs": [],
   "source": []
  }
 ],
 "metadata": {
  "kernelspec": {
   "display_name": "Python 3",
   "language": "python",
   "name": "python3"
  },
  "language_info": {
   "codemirror_mode": {
    "name": "ipython",
    "version": 3
   },
   "file_extension": ".py",
   "mimetype": "text/x-python",
   "name": "python",
   "nbconvert_exporter": "python",
   "pygments_lexer": "ipython3",
   "version": "3.7.2"
  }
 },
 "nbformat": 4,
 "nbformat_minor": 2
}
